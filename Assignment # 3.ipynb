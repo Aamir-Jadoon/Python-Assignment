{
 "cells": [
  {
   "cell_type": "markdown",
   "metadata": {},
   "source": [
    "<h1 style=\"font-size:4rem\">Question # 1</h1>\n"
   ]
  },
  {
   "cell_type": "code",
   "execution_count": 1,
   "metadata": {},
   "outputs": [
    {
     "name": "stdout",
     "output_type": "stream",
     "text": [
      "Enter first operand: 52\n",
      "Enter second operand: p\n",
      "\n",
      "[ERROR] - Enter a valid Number\n",
      "\n",
      "Enter second operand: 8\n",
      "Enter operation e.g. [+,-,*,/,^]: 5\n",
      "\n",
      "[ERROR] - Enter a valid operation\n",
      "\n",
      "Enter operation e.g. [+,-,*,/,^]: +\n",
      "\n",
      "Result: 52 + 8 = 60\n"
     ]
    }
   ],
   "source": [
    "first_operand = 0\n",
    "second_operand = 0\n",
    "operator = \"\"\n",
    "operator_list = ['+','-','/','*','^']\n",
    "\n",
    "while True:\n",
    "\ttry:\n",
    "\t\tfirst_operand = int(input(\"Enter first operand: \"))\n",
    "\t\tbreak\n",
    "\texcept Exception as e:\n",
    "\t\tprint(\"\\n[ERROR] - Enter a valid Number\\n\")\n",
    "\t\tcontinue\n",
    " \n",
    "while True:\n",
    "\ttry:\n",
    "\t\tsecond_operand = int(input(\"Enter second operand: \"))\n",
    "\t\tbreak\n",
    "\texcept Exception as e:\n",
    "\t\tprint(\"\\n[ERROR] - Enter a valid Number\\n\")\n",
    "\t\tcontinue\n",
    "\n",
    "while True:\n",
    "\ttry:\n",
    "\t\toperator = input(\"Enter operation e.g. [+,-,*,/,^]: \")\n",
    "\t\tif operator in operator_list:\n",
    "\t\t\tbreak\n",
    "\t\telse:\n",
    "\t\t\traise Exception\n",
    "\texcept Exception as e:\n",
    "\t\tprint(\"\\n[ERROR] - Enter a valid operation\\n\")\n",
    "\t\tcontinue\n",
    " \n",
    "if operator == '+':\n",
    "        print(f\"\\nResult: {first_operand} {operator} {second_operand} = {first_operand+second_operand}\")\n",
    "elif operator == '-':\n",
    "        print(f\"\\nResult: {first_operand} {operator} {second_operand} = {first_operand-second_operand}\")\n",
    "elif operator == '*':\n",
    "        print(f\"\\nResult: {first_operand} {operator} {second_operand} = {first_operand*second_operand}\")\n",
    "elif operator == '/':\n",
    "        print(f\"\\nResult: {first_operand} {operator} {second_operand} = {first_operand/second_operand}\")\n",
    "elif operator == '^':\n",
    "        print(f\"\\nResult: {first_operand} {operator} {second_operand} = {first_operand**second_operand}\")\n",
    " \n",
    " \n",
    " \n",
    "\n",
    "\n"
   ]
  },
  {
   "cell_type": "markdown",
   "metadata": {},
   "source": [
    "<h1 style=\"font-size:4rem\">Question # 2</h1>\n"
   ]
  },
  {
   "cell_type": "code",
   "execution_count": 3,
   "metadata": {},
   "outputs": [
    {
     "name": "stdout",
     "output_type": "stream",
     "text": [
      "\n",
      "There are 3 numeric values present in given list.\n"
     ]
    }
   ],
   "source": [
    "item_list = ['a', 'Jadoon', 'Sarkand', 105, 'Normalization', 2, 'Relational', 80, 'Digital Logic Gates']\n",
    "count = 0\n",
    "\n",
    "for item in item_list:\n",
    "    if isinstance(item, (int, float)):\n",
    "        count+=1\n",
    "        \n",
    "print(f\"\\nThere are {count} numeric values present in given list.\")"
   ]
  },
  {
   "cell_type": "markdown",
   "metadata": {},
   "source": [
    "<h1 style=\"font-size:4rem\">Question # 3</h1>\n"
   ]
  },
  {
   "cell_type": "code",
   "execution_count": 5,
   "metadata": {},
   "outputs": [
    {
     "name": "stdout",
     "output_type": "stream",
     "text": [
      "{'key': '', 'key1': ''}\n"
     ]
    }
   ],
   "source": [
    "dic = dict()\n",
    "\n",
    "# adding key using bracket notation\n",
    "dic['key'] = \"\"\n",
    "\n",
    "# adding key using update method\n",
    "dic.update({'key1': \"\"})\n",
    "\n",
    "print(dic)"
   ]
  },
  {
   "cell_type": "markdown",
   "metadata": {},
   "source": [
    "<h1 style=\"font-size:4rem\">Question # 4</h1>\n"
   ]
  },
  {
   "cell_type": "code",
   "execution_count": 4,
   "metadata": {},
   "outputs": [
    {
     "name": "stdout",
     "output_type": "stream",
     "text": [
      "\n",
      "The sum of all numeric values present in dictionary is: 812\n"
     ]
    }
   ],
   "source": [
    "item_dict = {'key2':100, 'key3':49, 'key4':'test', 'key6':63, 'key7':100, 'key8':'desktop', 'key9':500}\n",
    "sum = 0\n",
    "\n",
    "for item in item_dict.keys():\n",
    "    if isinstance(item_dict[item], int):\n",
    "        sum+=item_dict[item]\n",
    "print(f\"\\nThe sum of all numeric values present in dictionary is: {sum}\")"
   ]
  },
  {
   "cell_type": "markdown",
   "metadata": {},
   "source": [
    "<h1 style=\"font-size:4rem\">Question # 5</h1>\n"
   ]
  },
  {
   "cell_type": "code",
   "execution_count": 9,
   "metadata": {},
   "outputs": [
    {
     "name": "stdout",
     "output_type": "stream",
     "text": [
      "\n",
      "Duplicates: 1, 2, 33, 4, 6, 9 "
     ]
    }
   ],
   "source": [
    "item_list = [1,2,33,4,51,6,9,9,1,2,33,4,52,6,1,2,33,4,53,6]\n",
    "repeated  = []\n",
    "_size = len(item_list) \n",
    "\n",
    "for i in range(_size):\n",
    "\tk = i+1\n",
    "\tfor j in range(k, _size):\n",
    "\t\tif item_list[i] == item_list[j] and item_list[i] not in repeated:\n",
    "\t\t\trepeated.append(item_list[i])\n",
    "  \n",
    "print(\"\\nDuplicates\", end=\": \")\n",
    "for item in repeated:\n",
    "    if item == repeated[-1]:\n",
    "        print(item, end=\" \")\n",
    "        break\n",
    "    print(item, end=\", \")\n",
    "        "
   ]
  },
  {
   "cell_type": "markdown",
   "metadata": {},
   "source": [
    "<h1 style=\"font-size:4rem\">Question # 6</h1>\n"
   ]
  },
  {
   "cell_type": "code",
   "execution_count": 4,
   "metadata": {},
   "outputs": [
    {
     "name": "stdout",
     "output_type": "stream",
     "text": [
      "\n",
      "Key is Present\n"
     ]
    }
   ],
   "source": [
    "dic = {'a':1, 'b':2, 'c':3}\n",
    "key = 'c'\n",
    "\n",
    "if key in dic.keys():\n",
    "    print(\"\\nKey is Present\")\n",
    "elif key not in dic.keys():\n",
    "    print(\"\\nKey is not Present\")"
   ]
  }
 ],
 "metadata": {
  "kernelspec": {
   "display_name": "Python 3",
   "language": "python",
   "name": "python3"
  },
  "language_info": {
   "codemirror_mode": {
    "name": "ipython",
    "version": 3
   },
   "file_extension": ".py",
   "mimetype": "text/x-python",
   "name": "python",
   "nbconvert_exporter": "python",
   "pygments_lexer": "ipython3",
   "version": "3.7.3"
  }
 },
 "nbformat": 4,
 "nbformat_minor": 2
}
