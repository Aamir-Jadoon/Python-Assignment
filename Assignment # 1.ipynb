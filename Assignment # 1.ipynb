{
 "cells": [
  {
   "cell_type": "markdown",
   "metadata": {},
   "source": [
    "<h1 style=\"font-size:4.5rem; font-weight:500;\">Question.1</h1>"
   ]
  },
  {
   "cell_type": "code",
   "execution_count": 2,
   "metadata": {},
   "outputs": [
    {
     "name": "stdout",
     "output_type": "stream",
     "text": [
      "Twinkle, twinkle, little star,\n",
      "                How I wonder what you are!\n",
      "                      Up above the world so high,\n",
      "                      Like a diamond in the sky.\n",
      "         Twinkle, twinkle little star,\n",
      "                How I wonder what you are\n"
     ]
    }
   ],
   "source": [
    "print(\"\"\"Twinkle, twinkle, little star,\n",
    "                How I wonder what you are!\n",
    "                      Up above the world so high,\n",
    "                      Like a diamond in the sky.\n",
    "         Twinkle, twinkle little star,\n",
    "                How I wonder what you are\"\"\")"
   ]
  },
  {
   "cell_type": "markdown",
   "metadata": {},
   "source": [
    "<h1 style=\"font-size:4.5rem; font-weight:500;\">Question.2</h1>"
   ]
  },
  {
   "cell_type": "code",
   "execution_count": 6,
   "metadata": {},
   "outputs": [
    {
     "name": "stdout",
     "output_type": "stream",
     "text": [
      "3.7.1 (default, Dec 10 2018, 22:54:23) [MSC v.1915 64 bit (AMD64)]\n"
     ]
    }
   ],
   "source": [
    "import sys\n",
    "print(sys.version)"
   ]
  },
  {
   "cell_type": "markdown",
   "metadata": {},
   "source": [
    "<h1 style=\"font-size:4.5rem; font-weight:500;\">Question.3</h1>"
   ]
  },
  {
   "cell_type": "code",
   "execution_count": 22,
   "metadata": {},
   "outputs": [
    {
     "name": "stdout",
     "output_type": "stream",
     "text": [
      "Date:\t10/31/19\n",
      "Time:\t17:42:46\n"
     ]
    }
   ],
   "source": [
    "import datetime\n",
    "\n",
    "current_date_time = datetime.datetime.now()\n",
    "print(\"Date:\\t\"+str(current_date_time.strftime(\"%x\")))\n",
    "print(\"Time:\\t\"+str(current_date_time.strftime(\"%X\")))"
   ]
  },
  {
   "cell_type": "markdown",
   "metadata": {},
   "source": [
    "<h1 style=\"font-size:4.5rem; font-weight:500;\">Question.4</h1>"
   ]
  },
  {
   "cell_type": "code",
   "execution_count": 12,
   "metadata": {},
   "outputs": [
    {
     "name": "stdout",
     "output_type": "stream",
     "text": [
      "Give radius of Circle: 5\n",
      "Area of Circle ≈ 78.5\n"
     ]
    }
   ],
   "source": [
    "PI = 3.14\n",
    "r = int(input(\"Give radius of Circle: \"))\n",
    "area = PI*r**2\n",
    "print(\"Area of Circle ≈ {}\".format(area))"
   ]
  },
  {
   "cell_type": "markdown",
   "metadata": {},
   "source": [
    "<h1 style=\"font-size:4.5rem; font-weight:500;\">Question.5</h1>"
   ]
  },
  {
   "cell_type": "code",
   "execution_count": 27,
   "metadata": {},
   "outputs": [
    {
     "name": "stdout",
     "output_type": "stream",
     "text": [
      "Enter your Firstname and Lastname (include a space): Aamir Khan\n",
      "\n",
      "Reverse Name: Khan Aamir\n"
     ]
    }
   ],
   "source": [
    "fullname = input(\"Enter your Firstname and Lastname (include a space): \")\n",
    "substring = fullname.split(\" \")\n",
    "print(\"\\nReverse Name: {1} {0}\".format(substring[0], substring[1]))"
   ]
  },
  {
   "cell_type": "markdown",
   "metadata": {},
   "source": [
    "<h1 style=\"font-size:4.5rem; font-weight:500;\">Question.6</h1>"
   ]
  },
  {
   "cell_type": "code",
   "execution_count": 30,
   "metadata": {},
   "outputs": [
    {
     "name": "stdout",
     "output_type": "stream",
     "text": [
      "Enter two Number (Press enter after each):\n",
      "\n",
      "25\n",
      "6659\n",
      "25 + 6659 = 6684 \n"
     ]
    }
   ],
   "source": [
    "print(\"Enter two Number (Press enter after each):\\n\")\n",
    "first_number = int(input())\n",
    "second_number = int(input())\n",
    "print(\"{} + {} = {} \".format(first_number, second_number, first_number+second_number))"
   ]
  }
 ],
 "metadata": {
  "kernelspec": {
   "display_name": "Python 3",
   "language": "python",
   "name": "python3"
  },
  "language_info": {
   "codemirror_mode": {
    "name": "ipython",
    "version": 3
   },
   "file_extension": ".py",
   "mimetype": "text/x-python",
   "name": "python",
   "nbconvert_exporter": "python",
   "pygments_lexer": "ipython3",
   "version": "3.7.1"
  }
 },
 "nbformat": 4,
 "nbformat_minor": 2
}
