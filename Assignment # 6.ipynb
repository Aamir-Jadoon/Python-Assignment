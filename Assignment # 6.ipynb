{
 "cells": [
  {
   "cell_type": "markdown",
   "metadata": {},
   "source": [
    "<h1 style=\"width: 300px; text-align:center; background-color: #FFEDE5; color:red; padding:10px 0 10px 20px;\">Question # 1</h1>"
   ]
  },
  {
   "cell_type": "markdown",
   "metadata": {},
   "source": [
    "Object oriented programming (OOP) is a <strong style=\"background-color: #E5FFFF;color: #00868B; padding: 5px\">paradigm</strong> currently used in programming. It is allowed by certain languages (such as Python) and enforced by others (such as Java). In OOP, <span style=\"background-color: #E5FFFF;color: #00868B; padding: 5px\">data and operations</span> on them are put together (encapsulated) in a class defination used to generate (define) objects of this particular class type.\n",
    "\n",
    "Following are some important OOPS Concepts.\n",
    "<h3 style=\"letter-spacing:1px;\"><span style=\"color: #FFA07A\">➤</span> OOPS Concepts</h3><hr>\n",
    "<ol style=\"border-left: 6px solid #00868B; background-color: #E5FFFF; padding-top: 10px; padding-bottom: 10px\">\n",
    "    <li style=\"margin-bottom:5px\">Abstraction</li>    \n",
    "    <li style=\"margin-bottom:5px\">Encapsulation</li>    \n",
    "    <li style=\"margin-bottom:5px\">Polymorphism</li>    \n",
    "    <li style=\"margin-bottom:5px\">Inheritance</li>    \n",
    "    <li style=\"margin-bottom:5px\">Association</li>    \n",
    "    <li style=\"margin-bottom:5px\">Composition</li>    \n",
    "    <li style=\"margin-bottom:5px\">Aggregation</li>    \n",
    "</ol>\n",
    "\n",
    "\n",
    "\n",
    "\n",
    "\n",
    "\n"
   ]
  },
  {
   "cell_type": "markdown",
   "metadata": {},
   "source": [
    "<h1 style=\"width: 300px; text-align:center; background-color: #FFEDE5; color:red; padding:10px 0 10px 20px;\">Question # 2</h1>"
   ]
  },
  {
   "cell_type": "markdown",
   "metadata": {},
   "source": [
    "<h1>Benefits of Object Oriented Programming</h1>\n",
    "<ul style=\"border-left: 6px solid #00868B; background-color: #E5FFFF;padding-top: 10px; padding-bottom: 10px\">\n",
    "    <li style=\"margin-bottom:7px\">Through <strong style=\"background-color: #E5FFFF;color: #00868B; padding: 5px\">inheritance</strong>\n",
    " we can eliminate redundant (Unnecessary) code and extend the use of existing classes.</li>\n",
    "    <li style=\"margin-bottom:7px\"><strong style=\"background-color: #E5FFFF;color: #00868B; padding: 5px\">Data hiding</strong> helps the programmer to build secure programs that cannot be invaded by code in other parts of the program.</li>\n",
    "    <li style=\"margin-bottom:7px\">It is possible to have multiple objects co-exist withoud any interference.</li>\n",
    "    <li style=\"margin-bottom:7px\">It is easy to partition the work in a project based on objects.</li>\n",
    "    <li style=\"margin-bottom:7px\">Object-oriented systems can be <strong style=\"background-color: #E5FFFF;color: #00868B; padding: 5px\">easily upgraded</strong> from small to large systems.</li>\n",
    "    <li style=\"margin-bottom:7px\">Message passing techniques for communication between objects.</li>\n",
    "    <li style=\"margin-bottom:7px\">Code reuse is possible.</li>\n",
    "</ul>"
   ]
  },
  {
   "cell_type": "markdown",
   "metadata": {},
   "source": [
    "<h1 style=\"width: 300px; text-align:center; background-color: #FFEDE5; color:red; padding:10px 0 10px 20px;\">Question # 3</h1>"
   ]
  },
  {
   "cell_type": "markdown",
   "metadata": {},
   "source": [
    "<h1>Function vs Method</h1>\n",
    "<ul style=\"border-left: 6px solid #00868B; background-color: #E5FFFF; padding-top: 10px; padding-bottom: 10px;padding-right:100px;\">\n",
    "    <li style=\"margin-bottom:7px\">A function is a piece if code that is called by name.It can be passed \n",
    "        data to operate on (i.e the parameters) and can optionally return data \n",
    "        (the return value).</li>\n",
    "    <li style=\"margin-bottom:7px\">A method is a piece of code that is called by name that is associated \n",
    "        with an object. In most respects it is identical to a function.</li>\n",
    "</ul>\n",
    "<table>\n",
    "    <thead>\n",
    "        <tr>\n",
    "            <th style=\"text-align: center; font-size:2rem; color:#cc0000; background-color: #FFEDE5;\">Function</th>\n",
    "            <th style=\"text-align: center; font-size:2rem; color:#cc0000; background-color: #FFEDE5;\">Method</th>\n",
    "        </tr>\n",
    "    </thead>\n",
    "    <tbody>\n",
    "        <tr>\n",
    "            <td style=\"text-align: left; font-size:1.7rem; border-right: 1px solid black \">🌟 Functions can have zero or many parameters. </td>\n",
    "            <td style=\"text-align: left; font-size:1.7rem; \">🌟 In python, object is one of mandatory parameter of method.</td>\n",
    "        </tr>\n",
    "        <tr>\n",
    "            <td  style=\"text-align: left; font-size:1.7rem; border-right: 1px solid black \">🌟 Exists on its own.</td>\n",
    "            <td style=\"text-align: left; font-size:1.7rem; \">🌟 Belongs to a certain class.</td>\n",
    "        </tr>\n",
    "        <tr>\n",
    "            <td  style=\"text-align: left; font-size:1.7rem; border-right: 1px solid black \"><code>🌟 function()</code></td>\n",
    "            <td style=\"text-align: left; font-size:1.7rem; \"><code>🌟 object.method()</code></td>\n",
    "        </tr>\n",
    "     </tbody>\n",
    "</table>"
   ]
  },
  {
   "cell_type": "markdown",
   "metadata": {},
   "source": [
    "<h1 style=\"width: 300px; text-align:center; background-color: #FFEDE5; color:red; padding:10px 0 10px 20px;\">Question # 4</h1>"
   ]
  },
  {
   "cell_type": "markdown",
   "metadata": {},
   "source": [
    "<ol>\n",
    "    <li style=\" list-style-type: none; \"> <span style=\"font-size:2.5rem; font-weight: bold; color:white; background-color: #8E4AFB; padding: 20px\">❉ Class</span>\n",
    "        <ul style=\"border: 1px solid grey; padding: 20px; border-radius: 0.7rem\">\n",
    "            <li style=\" font-size:1.5rem; padding: 0px; list-style-type: none;\">Class is a template definition of data items (properties) and actions (Methods), and verything is a class in Python.</li><br/>\n",
    "            <span style=\"font-size: 2rem; font-weight: 600; color:gray\">A Minimal Class in Python</span>\n",
    "            <code style=\"background-color: white\">\n",
    "            >>> class Car:      \n",
    "            >>>    pass        \n",
    "            </code>\n",
    "    <li style=\"list-style-type: none;\">The fundamental syntactical structure of a class consists of two parts: the <strong style=\"background-color: #E5FFFF;color: #00868B; padding: 5px\">header</strong> and the <strong style=\"background-color: #E5FFFF;color: #00868B; padding: 5px\">body</strong>.The header usually consist of one line of code. It begins with the keyword <strong style=\"background-color: #E5FFFF;color: #00868B; padding: 5px\">\"class\"</strong> followed by a blank and an arbitrary name for the class. The class name is <strong style=\"background-color: #E5FFFF;color: #00868B; padding: 5px\">\"Car\"</strong> in our case. The class name is followed by listings of other class names, which are classes from which the defined class inherits from. These classes are called <strong style=\"background-color: #E5FFFF;color: #00868B; padding: 5px\">super classes, base classes, or sometimes parent classes.</strong></li>\n",
    "            <li style=\"list-style-type: none; margin-top:10px\">\n",
    "                The body of a class consists of an indented block of statements. In our case a single statement, the <strong style=\"background-color: #E5FFFF;color: #00868B; padding: 5px\">\"pass\"</strong> statement.\n",
    "            </li>\n",
    "        </ul>\n",
    "    </li>\n",
    "</ol>\n",
    "\n",
    "<ol style=\"margin-top: 50px\">\n",
    "    <li style=\" list-style-type: none; margin-top: 30px\"><span style=\"font-size:2.5rem; font-weight: bold; color:white; background-color: #8E4AFB; padding: 20px\">❉ Object</span>\n",
    "        <ul style=\"border: 1px solid grey; padding: 20px; border-radius: 0.7rem\">\n",
    "            <li style=\" font-size:1.5rem; padding: 0px; list-style-type: none;\">An object is a self-contained component that contains properties and methods needed to make a certain type of data useful.</li>\n",
    "            <li style=\" font-size:1.5rem; padding: 0px; list-style-type: none;\">Objects are the fundamental building blocks of applications from an object-oriented perspective.\n",
    "            </li> \n",
    "            <li style=\" font-size:1.5rem; padding: 0px; list-style-type: none;\">An object is also called an instance of a class and the process of creating objects from class is class <strong style=\"background-color: #E5FFFF;color: #00868B; padding: 5px\">instatiation</strong>.</li>\n",
    "            <li style=\" font-size:1.5rem; padding: 0px; list-style-type: none;\">The procedure to create an object is similar to a function call.</li>\n",
    "            <code style=\"background-color: white\">\n",
    "                >>> ob = Car()\n",
    "                </code>\n",
    "            <li style=\" font-size:1.5rem; padding: 0px; list-style-type: none;\">This will create a new instance object named <strong style=\"background-color: #E5FFFF;color: #00868B; padding: 5px\">ob</strong>. We can access attributes of objects using the object name prefix.</li>\n",
    "        </ul>\n",
    "    </li>\n",
    "</ol>\n",
    "\n",
    "<ol style=\"margin-top: 50px\">\n",
    "    <li style=\" list-style-type: none; margin-top: 30px\"><span style=\"font-size:2.5rem; font-weight: bold; color:white; background-color: #8E4AFB; padding: 20px\">❉ Attribute</span>\n",
    "        <ul style=\"border: 1px solid grey; padding: 20px; border-radius: 0.7rem\">\n",
    "            <li style=\" font-size:1.5rem; padding: 0px; list-style-type: none;\">An Attribute is a named property of a class. It has a type. It describes the range of values that that property may hold.\n",
    "</li>\n",
    "            <li style=\" font-size:1.5rem; padding: 0px; list-style-type: none;\">Attributes are created inside of a class definition. We can dynamically create arbitary new attributes for existing instances of a class. We do this by joining an arbitrary name to the instance name, separated by a dot <strong style=\"background-color: #E5FFFF;color: #00868B; padding: 5px\">\".\"</strong>.         \n",
    "</li>          \n",
    " <li style=\" font-size:1.5rem; padding: 0px; list-style-type: none; margin-top: 15px\"> <span style=\"background-color: #E5FFFF;color: #00868B; padding: 5px;\" >There are 2 types of attributes in Python.</span> <br><br>1. Class Attribute <br>2. Instance Attribute</li>\n",
    "        </ul>\n",
    "    </li>\n",
    "    <li style=\" font-size:1.5rem; padding: 0px; list-style-type: none; margin-top: 15px\">\n",
    "       Example\n",
    "        <code style=\"background-color: white\">\n",
    "            class Car:\n",
    "                model = \"Corolla 1.3 GLI MT\"  # class attribute  \n",
    "        </code>\n",
    "        <code style=\"background-color: white\">\n",
    "            ob = Car() # instance of Car class\n",
    "            ob.engine_type = \"Water cooled, In-Line 4 cylinders\"  # instance attribute \n",
    "        </code>\n",
    "    </li>\n",
    "</ol>\n",
    "\n",
    "<ol style=\"margin-top: 50px\">\n",
    "    <li style=\" list-style-type: none; margin-top: 30px\"><span style=\"font-size:2.5rem; font-weight: bold; color:white; background-color: #8E4AFB; padding: 20px\">❉ Behavior</span>\n",
    "        <ul style=\"border: 1px solid grey; padding: 20px; border-radius: 0.7rem\">\n",
    "            <li style=\" font-size:1.5rem; padding: 0px; list-style-type: none;\">A class's behavior determines how an instance of that class operates; for example, how it will \"react\" if asked to do something by another class or object or if its internal state changes. Behavior is the only way objects can do anything to themselves or have anything done to them. For example, following are some behaviors that the Motorcycle class might have:\n",
    "<code style=\"background-color: white\">\n",
    "    \n",
    "  ➡ Start the engine\n",
    "  ➡ Stop the engine\n",
    "  ➡ Speed up\n",
    "  ➡ Change gear\n",
    "  ➡ Stall\n",
    "  \n",
    "</code>\n",
    "To define an object's behavior, we create methods.\n",
    "</li>\n",
    "<br>\n",
    "Motocycle.py\n",
    "<br>\n",
    "\n",
    "<code style=\"background-color: white\">\n",
    "1:  class Motorcycle:\n",
    "2:      \n",
    "3:      engineState = false\n",
    "4:        \n",
    "5:      def startEngine(self):\n",
    "6:          \n",
    "7:          if engineState == true:\n",
    "8:              print(\"The engine is already on.\")\n",
    "9:          else:\n",
    "10:             engineState = true:\n",
    "11:             print(\"The engine is now on.\")\n",
    "12:\n",
    "</code>\n",
    "        </ul>\n",
    "    </li>\n",
    "</ol>\n"
   ]
  },
  {
   "cell_type": "markdown",
   "metadata": {},
   "source": [
    "<h1 style=\"width: 300px; text-align:center; background-color: #FFEDE5; color:red; padding:10px 0 10px 20px;\">Question # 5</h1>"
   ]
  },
  {
   "cell_type": "code",
   "execution_count": 19,
   "metadata": {},
   "outputs": [
    {
     "name": "stdout",
     "output_type": "stream",
     "text": [
      "Information About Car \n",
      "- Year: 2015\n",
      "- Make: Toyota Corolla\n",
      "- Model: Altis Grande\n",
      "- Speed: 120 km/hr\n",
      "- Color: White\n",
      "\n"
     ]
    },
    {
     "data": {
      "text/plain": [
       "160"
      ]
     },
     "execution_count": 19,
     "metadata": {},
     "output_type": "execute_result"
    }
   ],
   "source": [
    "class Car:\n",
    "    \n",
    "    def __init__(self, year, make, model, speed, color):\n",
    "        self.__year_model = year\n",
    "        self.__make = make\n",
    "        self.__speed = speed\n",
    "        self.__color = color\n",
    "        self.__model = model\n",
    "\n",
    "    \n",
    "    def car_info(self):\n",
    "        info = f\"Information About Car \\n- Year: {self.__year_model}\\n- Make: {self.__make}\\n- Model: {self.__model}\\n- Speed: {self.__speed} km/hr\\n- Color: {self.__color}\\n\"\n",
    "        return info\n",
    "    \n",
    "    def set_speed(self, speed):\n",
    "        self.__speed = speed\n",
    "    \n",
    "    def get_speed(self):\n",
    "        return self.__speed\n",
    "    \n",
    "\n",
    "obj1 = Car(2011, \"Honda\", \"Civic\", 5, \"Black\")\n",
    "obj2 = Car(2015, \"Toyota Corolla\", \"Altis Grande\", 100, \"White\")\n",
    "obj3 = Car(2013, \"Toyota Corolla\", \"XLi\", 60, \"Green\")\n",
    "obj4 = Car(2014, \"Toyota Corolla\", \"GLi\", 110, \"Red\")\n",
    "obj5 = Car(2020, \"Honda\", \"VTi\", 160, \"Grey\")\n",
    "\n",
    "\n",
    "obj2.set_speed(120)\n",
    "\n",
    "print(obj2.car_info())\n",
    "\n",
    "obj5.get_speed()\n"
   ]
  },
  {
   "cell_type": "code",
   "execution_count": null,
   "metadata": {},
   "outputs": [],
   "source": []
  }
 ],
 "metadata": {
  "kernelspec": {
   "display_name": "Python 3",
   "language": "python",
   "name": "python3"
  },
  "language_info": {
   "codemirror_mode": {
    "name": "ipython",
    "version": 3
   },
   "file_extension": ".py",
   "mimetype": "text/x-python",
   "name": "python",
   "nbconvert_exporter": "python",
   "pygments_lexer": "ipython3",
   "version": "3.7.3"
  }
 },
 "nbformat": 4,
 "nbformat_minor": 2
}
