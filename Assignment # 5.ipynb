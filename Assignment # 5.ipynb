{
 "cells": [
  {
   "cell_type": "markdown",
   "metadata": {},
   "source": [
    "# Question # 1"
   ]
  },
  {
   "cell_type": "code",
   "execution_count": 2,
   "metadata": {},
   "outputs": [
    {
     "name": "stdout",
     "output_type": "stream",
     "text": [
      "Enter a number:\t10\n",
      "Factorial of 10 is 3628800\n"
     ]
    }
   ],
   "source": [
    "def fact(n):\n",
    "    \"\"\"\n",
    "    This function takes an integer as user_input and return factorial \n",
    "    \"\"\"\n",
    "    return 1 if n == 1 else n * fact(n-1)\n",
    "\n",
    "def main():\n",
    "\n",
    "    try:\n",
    "        user_input = int(input(\"Enter a number:\\t\"))\n",
    "\n",
    "        # validate user input\n",
    "        if user_input < 1:\n",
    "            raise ValueError(\"Given number is smaller than 1.\")\n",
    "\n",
    "        # else call factorial function\n",
    "        else:\n",
    "            print(f\"Factorial of {user_input} is {fact(user_input)}\")\n",
    "\n",
    "    except ValueError as e:\n",
    "        print(e)\n",
    "\n",
    "main()"
   ]
  },
  {
   "cell_type": "markdown",
   "metadata": {},
   "source": [
    "# Question # 2"
   ]
  },
  {
   "cell_type": "code",
   "execution_count": 3,
   "metadata": {},
   "outputs": [
    {
     "name": "stdout",
     "output_type": "stream",
     "text": [
      "Enter a string: Once upon a time SOMDBODY ran\n",
      "\n",
      "*** Result ***\n",
      "\n",
      "Upper case letters:  9\n",
      "Lower case letters:  15\n"
     ]
    }
   ],
   "source": [
    "def sm_cap_letters_calculator(user_input):\n",
    "    \"\"\"\n",
    "    This function accepts a string, count upper and lower case letters and print the result.\n",
    "    \"\"\"\n",
    "    small_letters = 0;\n",
    "    capital_letters = 0;\n",
    "\n",
    "    for letter in user_input:\n",
    "        letter = ord(letter) # Convert character to its ascii decimal equivalent \n",
    "        if letter >= 65 and letter <= 90:\n",
    "            capital_letters += 1\n",
    "        elif letter >= 97 and letter <= 122:\n",
    "            small_letters += 1\n",
    "\n",
    "    print(f\"\\n*** Result ***\\n\\nUpper case letters:  {capital_letters}\\nLower case letters:  {small_letters}\")\n",
    "\n",
    "user_input = input(\"Enter a string: \")\n",
    "sm_cap_letters_calculator(user_input)"
   ]
  },
  {
   "cell_type": "markdown",
   "metadata": {},
   "source": [
    "# Question # 3"
   ]
  },
  {
   "cell_type": "code",
   "execution_count": 4,
   "metadata": {},
   "outputs": [
    {
     "name": "stdout",
     "output_type": "stream",
     "text": [
      "2, 4, 6, 8, 10, 12, 14, 16, 18, 20, "
     ]
    }
   ],
   "source": [
    "def even(num):\n",
    "    \"\"\"\n",
    "    Return True if given num is even else return False\n",
    "    \"\"\"\n",
    "    return True if num%2 == 0 else False\n",
    "\n",
    "number_list = list(range(1,21))\n",
    "for i in filter(even, number_list):\n",
    "    print(i, end = ', ')\n",
    "\n"
   ]
  },
  {
   "cell_type": "markdown",
   "metadata": {},
   "source": [
    "# Question # 4"
   ]
  },
  {
   "cell_type": "code",
   "execution_count": 5,
   "metadata": {},
   "outputs": [
    {
     "name": "stdout",
     "output_type": "stream",
     "text": [
      "Enter a string: madam\n",
      "\n",
      "madam, is palindrome.\n"
     ]
    }
   ],
   "source": [
    "def palindrome(user_input):\n",
    "    \"\"\"\n",
    "    This function checks whether given string is palindrom or not.\n",
    "    \"\"\"\n",
    "\n",
    "    _reverse = \"\"\n",
    "\n",
    "    for c in user_input[::-1]:\n",
    "        _reverse += c\n",
    "\n",
    "    if _reverse == user_input:\n",
    "        print(f\"\\n{user_input}, is palindrome.\")\n",
    "    else:\n",
    "        print(f\"\\n{user_input}, is not palindrome.\")\n",
    "\n",
    "        \n",
    "user_input = input(\"Enter a string: \")        \n",
    "palindrome(user_input)\n"
   ]
  },
  {
   "cell_type": "markdown",
   "metadata": {},
   "source": [
    "# Question # 5"
   ]
  },
  {
   "cell_type": "code",
   "execution_count": 6,
   "metadata": {},
   "outputs": [
    {
     "name": "stdout",
     "output_type": "stream",
     "text": [
      "Enter a number: 13\n",
      "\n",
      "13, is a prime number.\n"
     ]
    }
   ],
   "source": [
    "def is_prime(number):\n",
    "    \"\"\"\n",
    "    This function check wheather a given number is prime or not by returning True or False\n",
    "    \"\"\"\n",
    "    for i in range(2,number):\n",
    "        if number%i == 0:\n",
    "            return False\n",
    "        \n",
    "    return True\n",
    "\n",
    "user_input = int(input(\"Enter a number: \"))\n",
    "if is_prime(user_input):\n",
    "    print(f\"\\n{user_input}, is a prime number.\")\n",
    "else:\n",
    "    print(f\"\\n{user_input}, is not a prime number.\")\n"
   ]
  },
  {
   "cell_type": "markdown",
   "metadata": {},
   "source": [
    "# Question # 6"
   ]
  },
  {
   "cell_type": "code",
   "execution_count": 9,
   "metadata": {},
   "outputs": [
    {
     "name": "stdout",
     "output_type": "stream",
     "text": [
      "\n",
      "*** Shopping Cart ***\n",
      "\n",
      "1. Clothes\n",
      "2. Tomato\n",
      "3. Onions\n",
      "4. GTX-2060\n"
     ]
    }
   ],
   "source": [
    "def shopping_list(*args):\n",
    "    \"\"\"\n",
    "    This function printout all items of shopping cart\n",
    "    \"\"\"\n",
    "    print(\"\\n*** Shopping Cart ***\\n\")\n",
    "    for index, item in enumerate(args,1):\n",
    "        print(f\"{index}. {item}\")\n",
    "\n",
    "s_list = [\"Clothes\", \"Tomato\", \"Onions\", \"GTX-2060\"]\n",
    "shopping_list(s_list[0],s_list[1],s_list[2],s_list[3])"
   ]
  }
 ],
 "metadata": {
  "kernelspec": {
   "display_name": "Python 3",
   "language": "python",
   "name": "python3"
  },
  "language_info": {
   "codemirror_mode": {
    "name": "ipython",
    "version": 3
   },
   "file_extension": ".py",
   "mimetype": "text/x-python",
   "name": "python",
   "nbconvert_exporter": "python",
   "pygments_lexer": "ipython3",
   "version": "3.7.3"
  }
 },
 "nbformat": 4,
 "nbformat_minor": 2
}
