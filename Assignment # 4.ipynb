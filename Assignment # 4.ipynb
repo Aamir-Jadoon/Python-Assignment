{
 "cells": [
  {
   "cell_type": "markdown",
   "metadata": {},
   "source": [
    "<h1 style=\"font-size:4rem;color:blue\">Question # 1</h1>"
   ]
  },
  {
   "cell_type": "code",
   "execution_count": 1,
   "metadata": {},
   "outputs": [
    {
     "name": "stdout",
     "output_type": "stream",
     "text": [
      "   first_name: Naruto\n",
      "    last_name: Uzumaki\n",
      "          age: 25\n",
      "         city: Konohagakure\n",
      "\n",
      "\n",
      "-> After Update Operation\n",
      "\n",
      "   first_name: Naruto\n",
      "    last_name: Uzumaki\n",
      "          age: 25\n",
      "         city: Konohagakure\n",
      "qualification: High academic level\n",
      "\n",
      "\n",
      "-> After Deletion Operation\n",
      "\n",
      "   first_name: Naruto\n",
      "    last_name: Uzumaki\n",
      "          age: 25\n",
      "         city: Konohagakure\n"
     ]
    }
   ],
   "source": [
    "# dictionary containing person information\n",
    "person_bio = {\n",
    "    'first_name':'Naruto',\n",
    "    'last_name': 'Uzumaki',\n",
    "    'age':25,\n",
    "    'city':'Konohagakure'\n",
    "}\n",
    "\n",
    "# Looping through dictionary\n",
    "for key,value in person_bio.items():\n",
    "    print(\"{:>13}: {}\".format(key,value))\n",
    "    \n",
    "# Adding a new key value pair about qualification\n",
    "person_bio['qualification'] = ''\n",
    "\n",
    "# udpating qualification to high academic level\n",
    "person_bio.update({\"qualification\":\"High academic level\"})\n",
    "\n",
    "# Looping through dictionary after update\n",
    "print(\"\\n\\n-> After Update Operation\\n\")\n",
    "for key,value in person_bio.items():\n",
    "    print(\"{:>13}: {}\".format(key,value))\n",
    "    \n",
    "# Deletion of qualification\n",
    "person_bio.pop(\"qualification\")\n",
    "\n",
    "# Dictionary after deletion operation\n",
    "print(\"\\n\\n-> After Deletion Operation\\n\")\n",
    "for key,value in person_bio.items():\n",
    "    print(\"{:>13}: {}\".format(key,value))\n"
   ]
  },
  {
   "cell_type": "markdown",
   "metadata": {},
   "source": [
    "<h1 style=\"font-size:4rem;color:blue\">Question # 2</h1>"
   ]
  },
  {
   "cell_type": "code",
   "execution_count": 2,
   "metadata": {},
   "outputs": [
    {
     "name": "stdout",
     "output_type": "stream",
     "text": [
      "->  Hyderabad\n",
      "\t-    country: Pakistan\n",
      "\t- population: 5734601\n",
      "\t-       fact: Fourth-largest city in Pakistan\n",
      "\n",
      "\n",
      "->  Karachi\n",
      "\t-    country: Pakistan\n",
      "\t- population: 14916456\n",
      "\t-       fact: Fifth most populous city in the world \n",
      "\n",
      "\n",
      "->  Makka\n",
      "\t-    country: Saudi Arabia\n",
      "\t- population: 1675368\n",
      "\t-       fact: Birth place of Prophet Muhammad [PBUH].\n",
      "\n",
      "\n"
     ]
    }
   ],
   "source": [
    "cities = {\n",
    "    \n",
    "    \"Hyderabad\":{\n",
    "        \"country\":\"Pakistan\",\n",
    "        \"population\":5734601,\n",
    "        \"fact\":\"Fourth-largest city in Pakistan\"\n",
    "    },\n",
    "    \n",
    "    \"Karachi\":{\n",
    "        \"country\":\"Pakistan\",\n",
    "        \"population\":14916456,\n",
    "        \"fact\":\"Fifth most populous city in the world \"\n",
    "    },\n",
    "    \n",
    "    \"Makka\":{\n",
    "        \"country\":\"Saudi Arabia\",\n",
    "        \"population\":1675368,\n",
    "        \"fact\":\"Birth place of Prophet Muhammad [PBUH].\"\n",
    "    }\n",
    "}\n",
    "\n",
    "# Looping through cities dictionary\n",
    "for city in cities:\n",
    "    print(\"-> \",city)\n",
    "    for key, value in cities[city].items():\n",
    "        print(\"\\t- {:>10}: {}\".format(key,value))\n",
    "    print(\"\\n\")\n"
   ]
  },
  {
   "cell_type": "markdown",
   "metadata": {},
   "source": [
    "<h1 style=\"font-size:4rem;color:blue\">Question # 3</h1>"
   ]
  },
  {
   "cell_type": "code",
   "execution_count": 1,
   "metadata": {},
   "outputs": [
    {
     "name": "stdout",
     "output_type": "stream",
     "text": [
      "\n",
      "Hammer Movie Theater\n",
      "********************\n",
      "\n",
      "Enter your age: -96\n",
      "\n",
      "-> Enter a valid age. E.g 12\n",
      "\n",
      "Enter your age: 55\n",
      "Cost of movie ticket: $15\n",
      "Are you want to Continue? [y/n]: y\n",
      "\n",
      "\n",
      "Enter your age: 2\n",
      "Cost of movie ticket: $0\n",
      "Are you want to Continue? [y/n]: n\n",
      "\n",
      "\n",
      "\n",
      "Thanks for coming to Hammer Movie Theater. Hope to see you again :)\n"
     ]
    }
   ],
   "source": [
    "def check_charges(age):\n",
    "    \"\"\"\n",
    "    This function calculate theater charges based on the person age\n",
    "    @param: age of int type\n",
    "    @return: int\n",
    "    \"\"\"\n",
    "    if age > 0 and age < 3 :\n",
    "        return 0\n",
    "    \n",
    "    elif age >= 3 and age <= 12:\n",
    "        return 10\n",
    "    \n",
    "    elif age > 12:\n",
    "        return 15\n",
    "    \n",
    "    else:\n",
    "        return -1\n",
    "\n",
    "print(\"\\nHammer Movie Theater\\n********************\\n\")\n",
    "while True:\n",
    "    \n",
    "    age = int(input(\"Enter your age: \"))\n",
    "    cost = check_charges(age)\n",
    "    \n",
    "    # Cost of ticket\n",
    "    if cost == -1:\n",
    "        print(\"\\n-> Enter a valid age. E.g 12\\n\")\n",
    "        continue\n",
    "    else:\n",
    "        print(\"Cost of movie ticket: $\"+str(cost))\n",
    "    \n",
    "    # Continue or not\n",
    "    is_continue = input(\"Are you want to Continue? [y/n]: \").capitalize()\n",
    "    print(\"\\n\")\n",
    "    if is_continue == 'Y':\n",
    "        continue\n",
    "    else:\n",
    "        print(\"\\nThanks for coming to Hammer Movie Theater. Hope to see you again :)\")\n",
    "        break\n",
    "    "
   ]
  },
  {
   "cell_type": "markdown",
   "metadata": {},
   "source": [
    "<h1 style=\"font-size:4rem;color:blue\">Question # 4</h1>"
   ]
  },
  {
   "cell_type": "code",
   "execution_count": 7,
   "metadata": {},
   "outputs": [
    {
     "name": "stdout",
     "output_type": "stream",
     "text": [
      "\n",
      "The 100: A Ranking of the Most Influential Persons, is among one of my favourite books.\n"
     ]
    }
   ],
   "source": [
    "def favourite_book(book):\n",
    "    \"\"\"\n",
    "    A function to display message related to book.\n",
    "    @param: string\n",
    "    @return: None\n",
    "    \"\"\"\n",
    "    print(f\"\\n{book}, is among one of my favourite books.\")\n",
    "\n",
    "\n",
    "favourite_book(\"The 100: A Ranking of the Most Influential Persons\")"
   ]
  },
  {
   "cell_type": "markdown",
   "metadata": {},
   "source": [
    "<h1 style=\"font-size:4rem;color:blue\">Question # 5</h1>"
   ]
  },
  {
   "cell_type": "code",
   "execution_count": 16,
   "metadata": {},
   "outputs": [
    {
     "name": "stdout",
     "output_type": "stream",
     "text": [
      "\n",
      "🎮 🎮 🎮 Guess Game 🎮 🎮 🎮\n",
      "\n",
      "[Remaining Chances: 3] - Guess the hidden number [1-30]: 15\n",
      "❌ Hidden number is greater than 15.\n",
      "\n",
      "[Remaining Chances: 2] - Guess the hidden number [1-30]: 20\n",
      "\n",
      "🎉 🎉 🎉 Congratulation: You have guessed the correct number.🎉 🎉 🎉 \n"
     ]
    }
   ],
   "source": [
    "from random import randint\n",
    "\n",
    "# Random Number Generation\n",
    "random_number = randint(1,30)\n",
    "    \n",
    "def user_guess_game():\n",
    "    \"\"\"\n",
    "    user_guess_game function \n",
    "    @param: None\n",
    "    @return: int\n",
    "    \"\"\"\n",
    "    chances = 3\n",
    "    user_guess = None\n",
    "    flag = None\n",
    "        \n",
    "\n",
    "    \n",
    "    # Comparision of User guess and Hidden Number\n",
    "    while chances > 0:\n",
    "        \n",
    "        # User Guess\n",
    "        while True:\n",
    "            try:\n",
    "                user_guess = int(input(f\"[Remaining Chances: {chances}] - Guess the hidden number [1-30]: \"))\n",
    "                break\n",
    "            except:\n",
    "                print(\"\\n-> Enter a number between 1 and 30\\n\")\n",
    "                continue\n",
    "        \n",
    "        if random_number > user_guess:\n",
    "            print(f\"❌ Hidden number is greater than {user_guess}.\\n\")\n",
    "            flag = 0\n",
    "            \n",
    "            # Decrease the counter\n",
    "            chances -= 1\n",
    "            continue\n",
    "        \n",
    "        elif random_number < user_guess:\n",
    "            print(f\"❌ Hidden number is smaller than {user_guess}.\\n\")\n",
    "            flag = 0\n",
    "            \n",
    "            # Decrease the counter\n",
    "            chances -= 1\n",
    "            continue\n",
    "        \n",
    "        elif random_number == user_guess:\n",
    "            flag = 1\n",
    "            break\n",
    "        \n",
    "\n",
    "    \n",
    "    return flag\n",
    "\n",
    "\n",
    "def result():\n",
    "    \"\"\"\n",
    "    @param: None\n",
    "    @return: None\n",
    "    \n",
    "    \"\"\"\n",
    "    print(\"\\n🎮 🎮 🎮 Guess Game 🎮 🎮 🎮\\n\")\n",
    "    result = user_guess_game()\n",
    "    \n",
    "    if result == 1:\n",
    "        print(\"\\n🎉 🎉 🎉 Congratulation: You have guessed the correct number.🎉 🎉 🎉 \")\n",
    "    else:\n",
    "        print(\"Game Over.\")\n",
    "        print(f\"{random_number} is the hidden number.\")\n",
    "\n",
    "    \n",
    "result()"
   ]
  }
 ],
 "metadata": {
  "kernelspec": {
   "display_name": "Python 3",
   "language": "python",
   "name": "python3"
  },
  "language_info": {
   "codemirror_mode": {
    "name": "ipython",
    "version": 3
   },
   "file_extension": ".py",
   "mimetype": "text/x-python",
   "name": "python",
   "nbconvert_exporter": "python",
   "pygments_lexer": "ipython3",
   "version": "3.7.3"
  }
 },
 "nbformat": 4,
 "nbformat_minor": 2
}
