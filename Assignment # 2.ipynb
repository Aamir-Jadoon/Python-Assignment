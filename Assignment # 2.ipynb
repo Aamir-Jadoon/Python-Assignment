{
 "cells": [
  {
   "cell_type": "markdown",
   "metadata": {},
   "source": [
    "<h1 style=\"font-size:3.8rem;font-weight:500\">Question # 1</h1>"
   ]
  },
  {
   "cell_type": "code",
   "execution_count": 1,
   "metadata": {},
   "outputs": [
    {
     "name": "stdout",
     "output_type": "stream",
     "text": [
      "Enter marks for Subject A > 92\n",
      "Enter marks for Subject B > 93\n",
      "Enter marks for Subject C > 659\n",
      "\n",
      "You have entered incorrect value. Type any value between 0 and 100 [inclusive]\n",
      "\n",
      "Enter marks for Subject C > 85\n",
      "Enter marks for Subject D > 100\n",
      "Enter marks for Subject E > 75\n",
      "\n",
      "You have secured A grade with 89.0% score.\n",
      "\n"
     ]
    }
   ],
   "source": [
    "import math\n",
    "subject_marks = {\n",
    "                'Subject A':0, \n",
    "                'Subject B':0, \n",
    "                'Subject C':0, \n",
    "                'Subject D':0, \n",
    "                'Subject E':0\n",
    "                }\n",
    "\n",
    "student_score = 0\n",
    "student_percentage = 0\n",
    "\n",
    "# Take input from user\n",
    "for subject in subject_marks:\n",
    "    marks = int(input(\"Enter marks for {:10}> \".format(subject)))\n",
    "    while True:\n",
    "        if marks <= 100 and marks >= 0:\n",
    "            subject_marks[subject] = marks\n",
    "            break\n",
    "        else:\n",
    "            print(\"\\nYou have entered incorrect value. Type any value between 0 and 100 [inclusive]\\n\")\n",
    "            marks = int(input(\"Enter marks for {:10}> \".format(subject)))\n",
    "\n",
    "\n",
    "\n",
    "# calculate score                            \n",
    "for subject, mark in subject_marks.items():\n",
    "    if mark == 0:\n",
    "        continue\n",
    "    else:\n",
    "        student_score += mark\n",
    "\n",
    "# calculate percentage\n",
    "student_percentage = round((student_score/(len(subject_marks)*100))*100, 2)\n",
    "\n",
    "# Student Grade Evaluation\n",
    "if student_percentage >= 80 and student_percentage <= 100:\n",
    "    print(f\"\\nYou have secured A grade with {student_percentage}% score.\\n\")\n",
    "elif student_percentage >= 70 and student_percentage <= 79:\n",
    "    print(f\"\\nYou have secured B grade with {student_percentage}% score.\\n\")\n",
    "elif student_percentage >= 60 and student_percentage <= 69:\n",
    "    print(f\"S\\nYou have secured C grade with {student_percentage}% score.\\n\")\n",
    "elif student_percentage >= 40 and student_percentage <= 59:\n",
    "    print(f\"\\nYou have secured PASS grade with {student_percentage}% score.\\n\")\n",
    "elif student_percentage >= 0 and student_percentage <= 39:\n",
    "    print(f\"\\nYou have secured FAIL grade with {student_percentage}% score.\\n\")\n",
    " "
   ]
  },
  {
   "cell_type": "markdown",
   "metadata": {},
   "source": [
    "<h1 style=\"font-size:3.8rem;font-weight:500\">Question # 2</h1>"
   ]
  },
  {
   "cell_type": "code",
   "execution_count": 2,
   "metadata": {},
   "outputs": [
    {
     "name": "stdout",
     "output_type": "stream",
     "text": [
      "Type a number > 2\n",
      "2 is an EVEN number.\n",
      "\n",
      "Want to continue? [y/n] > y\n",
      "Type a number > 5\n",
      "5 is an ODD number.\n",
      "\n",
      "Want to continue? [y/n] > n\n"
     ]
    }
   ],
   "source": [
    "\n",
    "while True:\n",
    "    user_input = int(input(\"Type a number > \"))\n",
    "\n",
    "    if(user_input%2 == 0):\n",
    "        print(f\"{user_input} is an EVEN number.\")\n",
    "    elif(user_input%2 != 0):\n",
    "        print(f\"{user_input} is an ODD number.\")\n",
    "        \n",
    "    x = input(\"\\nWant to continue? [y/n] > \").capitalize()\n",
    "    if x == 'Y':\n",
    "        continue\n",
    "    elif x == 'N':\n",
    "        break\n",
    "    else:\n",
    "        print(\"closing ...\\n\")\n",
    "        break\n"
   ]
  },
  {
   "cell_type": "markdown",
   "metadata": {},
   "source": [
    "<h1 style=\"font-size:3.8rem;font-weight:500\">Question # 3</h1>"
   ]
  },
  {
   "cell_type": "code",
   "execution_count": 3,
   "metadata": {},
   "outputs": [
    {
     "name": "stdout",
     "output_type": "stream",
     "text": [
      "Length of list: 7\n"
     ]
    }
   ],
   "source": [
    "items_list = [1,2,3,4,5,6,7]\n",
    "print(f\"Length of list: {len(items_list)}\")"
   ]
  },
  {
   "cell_type": "markdown",
   "metadata": {},
   "source": [
    "<h1 style=\"font-size:3.8rem;font-weight:500\">Question # 4</h1>"
   ]
  },
  {
   "cell_type": "code",
   "execution_count": 5,
   "metadata": {},
   "outputs": [
    {
     "name": "stdout",
     "output_type": "stream",
     "text": [
      "\n",
      "Sum of all items in list: 55\n"
     ]
    }
   ],
   "source": [
    "items_list = [1,2,3,4,5,6,7,8,9,10]\n",
    "sum = 0\n",
    "for item in items_list:\n",
    "    sum += item\n",
    "print(f\"\\nSum of all items in list: {sum}\")"
   ]
  },
  {
   "cell_type": "markdown",
   "metadata": {},
   "source": [
    "<h1 style=\"font-size:3.8rem;font-weight:500\">Question # 5</h1>"
   ]
  },
  {
   "cell_type": "code",
   "execution_count": 8,
   "metadata": {},
   "outputs": [
    {
     "name": "stdout",
     "output_type": "stream",
     "text": [
      "\n",
      "Largest item in list is 714.\n"
     ]
    }
   ],
   "source": [
    "def larg(items_list):\n",
    "    largest_item = items_list[0]\n",
    "    \n",
    "    # iterate over list\n",
    "    for item in items_list:\n",
    "        if largest_item < item:\n",
    "            largest_item = item\n",
    "        else:\n",
    "            continue\n",
    "    \n",
    "    return largest_item\n",
    "\n",
    "items_list = [1,22,3,14,555,6,714,8,9,10]    \n",
    "print(f\"\\nLargest item in list is {larg(items_list)}.\")"
   ]
  },
  {
   "cell_type": "markdown",
   "metadata": {},
   "source": [
    "<h1 style=\"font-size:3.8rem;font-weight:500\">Question # 6</h1>"
   ]
  },
  {
   "cell_type": "code",
   "execution_count": 10,
   "metadata": {},
   "outputs": [
    {
     "name": "stdout",
     "output_type": "stream",
     "text": [
      "1, 1, 2, 3, "
     ]
    }
   ],
   "source": [
    "a = [1,1,2,3,5,8,13,21,34,55,89]\n",
    "for item in a:\n",
    "    if item < 5:\n",
    "        print(f\"{item}\", end=\", \")"
   ]
  }
 ],
 "metadata": {
  "kernelspec": {
   "display_name": "Python 3",
   "language": "python",
   "name": "python3"
  },
  "language_info": {
   "codemirror_mode": {
    "name": "ipython",
    "version": 3
   },
   "file_extension": ".py",
   "mimetype": "text/x-python",
   "name": "python",
   "nbconvert_exporter": "python",
   "pygments_lexer": "ipython3",
   "version": "3.7.3"
  }
 },
 "nbformat": 4,
 "nbformat_minor": 2
}
